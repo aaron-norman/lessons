{
  "nbformat": 4,
  "nbformat_minor": 0,
  "metadata": {
    "colab": {
      "provenance": [],
      "authorship_tag": "ABX9TyMvqOEi9eFtpaWMipS5UFYr",
      "include_colab_link": true
    },
    "kernelspec": {
      "name": "python3",
      "display_name": "Python 3"
    },
    "language_info": {
      "name": "python"
    }
  },
  "cells": [
    {
      "cell_type": "markdown",
      "metadata": {
        "id": "view-in-github",
        "colab_type": "text"
      },
      "source": [
        "<a href=\"https://colab.research.google.com/github/aaron-norman/lessons/blob/main/closures.ipynb\" target=\"_parent\"><img src=\"https://colab.research.google.com/assets/colab-badge.svg\" alt=\"Open In Colab\"/></a>"
      ]
    },
    {
      "cell_type": "markdown",
      "source": [
        "# Closures\n",
        "\n",
        "Closures allow functions to capture and remember the environment in which they were created.\n",
        "\n",
        "# What is a Closure?\n",
        "\n",
        "A closure is a function object.\n",
        "\n",
        "It remembers values in enclosing scopes even if they are not present in memory. They can be thought of as functions with an extended scope that encompasses non-local variables that were in scope when the closure was created.\n",
        "\n",
        "## Basic Example of a Closure\n",
        "\n"
      ],
      "metadata": {
        "id": "DIB72eVIJPNl"
      }
    },
    {
      "cell_type": "code",
      "source": [
        "def outer_function(msg):\n",
        "  def inner_function():\n",
        "    print(msg)\n",
        "  return inner_function\n",
        "\n",
        "closure = outer_function('Hello!')\n",
        "# closure variable is called, it remembers the value of the parameter passed to it.\n",
        "closure()"
      ],
      "metadata": {
        "colab": {
          "base_uri": "https://localhost:8080/"
        },
        "id": "HRxH4FGnJ7lB",
        "outputId": "d689a0a8-babe-467b-f78e-0ad2128f0f96"
      },
      "execution_count": null,
      "outputs": [
        {
          "output_type": "stream",
          "name": "stdout",
          "text": [
            "Hello!\n"
          ]
        }
      ]
    },
    {
      "cell_type": "markdown",
      "source": [
        "# What's the use?\n",
        "\n",
        "Closures are useful in several scenarios\n",
        "\n",
        "1. **Encapsulation**: Closures allow you to hide data within a function, similar to private variables in object-oriented programs.\n",
        "\n",
        "2. **Factory functions**: Closures can be used to generate functions dynamically.\n",
        "\n",
        "3. **Callbacks and Event handlers**: They are frequently used in *asynchronous programming* for defining callback functions"
      ],
      "metadata": {
        "id": "D8oc7eILKfXi"
      }
    },
    {
      "cell_type": "markdown",
      "source": [
        "## Detailed Explanation"
      ],
      "metadata": {
        "id": "l0BGr2TrLIF-"
      }
    },
    {
      "cell_type": "code",
      "source": [
        "\n",
        "def make_multiplier_of(n):\n",
        "\n",
        "  def multiplier(x):\n",
        "    return x * n\n",
        "  return multiplier\n",
        "\n",
        "# save make_multiplier_of to times3, passing in the value 3.\n",
        "times3 = make_multiplier_of(3)\n",
        "# save make_multiplier_of to times5, passing in the value 5.\n",
        "times5 = make_multiplier_of(5)\n",
        "\n",
        "print(times3(5))\n",
        "print(times5(5))\n",
        "print(times5(times3(5)))"
      ],
      "metadata": {
        "colab": {
          "base_uri": "https://localhost:8080/"
        },
        "id": "tkj585T8LHU9",
        "outputId": "7b6b137b-a0b6-42a6-cb9a-06f7c0977382"
      },
      "execution_count": null,
      "outputs": [
        {
          "output_type": "stream",
          "name": "stdout",
          "text": [
            "15\n",
            "25\n",
            "75\n"
          ]
        }
      ]
    },
    {
      "cell_type": "markdown",
      "source": [
        "## In this example:\n",
        "\n",
        "- make_multipler_of is a factory function tht takes an argument `n` and returns a `multiplier` function.\n",
        "\n",
        "- the `multiplier` function uses `n` from the enclosing scope."
      ],
      "metadata": {
        "id": "2T4Am9QiNGTv"
      }
    },
    {
      "cell_type": "markdown",
      "source": [
        "# Checking Closure Properties\n",
        "\n",
        "You can inspect the closure properties of a function using the `__closure__` attribute.\n",
        "\n"
      ],
      "metadata": {
        "id": "7g3cMzCPNxh1"
      }
    },
    {
      "cell_type": "code",
      "source": [
        "def make_multiplier_of(n):\n",
        "  def multiplier(x):\n",
        "    return x*n\n",
        "  return multiplier\n",
        "\n",
        "times3 = make_multiplier_of(3)\n",
        "print(times3.__closure__)\n",
        "print(times3.__closure__[0].cell_contents)"
      ],
      "metadata": {
        "colab": {
          "base_uri": "https://localhost:8080/"
        },
        "id": "EZnTeeTtN6CA",
        "outputId": "c26a6372-428c-4822-bbdb-f08903a97740"
      },
      "execution_count": null,
      "outputs": [
        {
          "output_type": "stream",
          "name": "stdout",
          "text": [
            "(<cell at 0x7cbaa46fe1d0: int object at 0x7cbab62ec130>,)\n",
            "3\n"
          ]
        }
      ]
    },
    {
      "cell_type": "markdown",
      "source": [
        "Above: `times3` is a variable saving the \"factory function\" `make_multiplier_of` with `3` passed to it.\n",
        "\n",
        "`print(times3.__closure__)` contains the `cell` objects that hold the variables from the enclosing scope (outer function scope).\n",
        "\n",
        "- `cell_contents` shows the actual value of `n`.\n"
      ],
      "metadata": {
        "id": "6t_6JFVkO17e"
      }
    },
    {
      "cell_type": "markdown",
      "source": [
        "## Practical Example: Using Closures in Real world applications.\n",
        "\n",
        "Consider a scenario where we need to log messages with different log levels (info, warning, error):\n",
        "\n"
      ],
      "metadata": {
        "id": "BMNZJUjmPjgI"
      }
    },
    {
      "cell_type": "code",
      "source": [
        "def create_logger(level):\n",
        "  def logger(msg):\n",
        "    print(f\"[{level.upper()}] {msg}\")\n",
        "  return logger\n",
        "\n",
        "info_logger = create_logger(\"info\")\n",
        "warning_logger = create_logger(\"warning\")\n",
        "error_logger = create_logger(\"error\")\n",
        "\n",
        "print(info_logger(\"Systems are clear for takeoff\"))\n",
        "print(warning_logger('too much oxygen in rocket bay'))\n",
        "print(error_logger(\"launch aborted, too much oxygen in rocket bay\"))"
      ],
      "metadata": {
        "colab": {
          "base_uri": "https://localhost:8080/"
        },
        "id": "2tiYO1CxPxam",
        "outputId": "c47a2b2f-4969-4ead-eaef-a9dc825a60a3"
      },
      "execution_count": null,
      "outputs": [
        {
          "output_type": "stream",
          "name": "stdout",
          "text": [
            "[INFO] Systems are clear for takeoff\n",
            "None\n",
            "[WARNING] too much oxygen in rocket bay\n",
            "None\n",
            "[ERROR] launch aborted, too much oxygen in rocket bay\n",
            "None\n"
          ]
        }
      ]
    },
    {
      "cell_type": "markdown",
      "source": [
        "# Summary:\n",
        "\n",
        "- Closures are functions that capture the state of the enclosing environment in which they were created.\n",
        "- They can be used to encapsulate data, create factory functions, and handle callbacks.\n",
        "- the `__closure__` attribute as well as `cell_contents` allows for the inspection of the captured variables."
      ],
      "metadata": {
        "id": "er27ptmOQpZU"
      }
    }
  ]
}